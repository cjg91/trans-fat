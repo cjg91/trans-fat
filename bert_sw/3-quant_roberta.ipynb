{
 "cells": [
  {
   "cell_type": "markdown",
   "id": "f34b3bc5",
   "metadata": {},
   "source": [
    "# Statically Quantize Roberta"
   ]
  },
  {
   "cell_type": "code",
   "execution_count": 3,
   "id": "8b353d22",
   "metadata": {},
   "outputs": [],
   "source": [
    "%load_ext autoreload\n",
    "%autoreload 2"
   ]
  },
  {
   "cell_type": "code",
   "execution_count": 36,
   "id": "cd8a69e2",
   "metadata": {},
   "outputs": [],
   "source": [
    "import torch\n",
    "from transformers import glue_compute_metrics\n",
    "import sklearn\n",
    "from sklearn.metrics import f1_score\n",
    "from tqdm import tqdm\n",
    "import numpy as np"
   ]
  },
  {
   "cell_type": "code",
   "execution_count": 134,
   "id": "e4e773cf",
   "metadata": {},
   "outputs": [],
   "source": [
    "from dynamic_quant_roberta import QuantRobertaForSequenceClassification\n",
    "from transformers import RobertaForSequenceClassification, AutoTokenizer\n",
    "from transformers.data.metrics import simple_accuracy"
   ]
  },
  {
   "cell_type": "code",
   "execution_count": 135,
   "id": "8ce4361a",
   "metadata": {},
   "outputs": [
    {
     "name": "stderr",
     "output_type": "stream",
     "text": [
      "Some weights of the model checkpoint at textattack/roberta-base-MRPC were not used when initializing QuantRobertaForSequenceClassification: ['roberta.pooler.dense.bias', 'roberta.pooler.dense.weight']\n",
      "- This IS expected if you are initializing QuantRobertaForSequenceClassification from the checkpoint of a model trained on another task or with another architecture (e.g. initializing a BertForSequenceClassification model from a BertForPreTraining model).\n",
      "- This IS NOT expected if you are initializing QuantRobertaForSequenceClassification from the checkpoint of a model that you expect to be exactly identical (initializing a BertForSequenceClassification model from a BertForSequenceClassification model).\n",
      "Some weights of the model checkpoint at textattack/roberta-base-MRPC were not used when initializing RobertaForSequenceClassification: ['roberta.pooler.dense.bias', 'roberta.pooler.dense.weight']\n",
      "- This IS expected if you are initializing RobertaForSequenceClassification from the checkpoint of a model trained on another task or with another architecture (e.g. initializing a BertForSequenceClassification model from a BertForPreTraining model).\n",
      "- This IS NOT expected if you are initializing RobertaForSequenceClassification from the checkpoint of a model that you expect to be exactly identical (initializing a BertForSequenceClassification model from a BertForSequenceClassification model).\n"
     ]
    }
   ],
   "source": [
    "qmodel = QuantRobertaForSequenceClassification.from_pretrained('textattack/roberta-base-MRPC')\n",
    "model = RobertaForSequenceClassification.from_pretrained('textattack/roberta-base-MRPC')\n",
    "\n",
    "tokenizer = AutoTokenizer.from_pretrained('textattack/roberta-base-MRPC')"
   ]
  },
  {
   "cell_type": "code",
   "execution_count": 140,
   "id": "ff68ee2c",
   "metadata": {},
   "outputs": [
    {
     "name": "stderr",
     "output_type": "stream",
     "text": [
      "Reusing dataset glue (/Users/oliver/.cache/huggingface/datasets/glue/mrpc/1.0.0/dacbe3125aa31d7f70367a07a8a9e72a5a0bfeb5fc42e75c9db75b96da6053ad)\n"
     ]
    }
   ],
   "source": [
    "from datasets import load_dataset\n",
    "# dataset = load_dataset('glue', 'mrpc', split='validation')\n",
    "dataset = load_dataset('glue', 'mrpc', split='test')"
   ]
  },
  {
   "cell_type": "code",
   "execution_count": 141,
   "id": "03bf91c4",
   "metadata": {},
   "outputs": [
    {
     "data": {
      "text/plain": [
       "\"<s>PCCW's chief operating officer, Mike Butcher, and Alex Arena, the chief financial officer, will report directly to Mr So.</s></s>Current Chief Operating Officer Mike Butcher and Group Chief Financial Officer Alex Arena will report to So.</s>\""
      ]
     },
     "execution_count": 141,
     "metadata": {},
     "output_type": "execute_result"
    }
   ],
   "source": [
    "tokenizer.decode(tokenizer(dataset[0]['sentence1'], dataset[0]['sentence2'])['input_ids'])"
   ]
  },
  {
   "cell_type": "code",
   "execution_count": 142,
   "id": "9d14ed15",
   "metadata": {},
   "outputs": [
    {
     "name": "stderr",
     "output_type": "stream",
     "text": [
      "Loading cached processed dataset at /Users/oliver/.cache/huggingface/datasets/glue/mrpc/1.0.0/dacbe3125aa31d7f70367a07a8a9e72a5a0bfeb5fc42e75c9db75b96da6053ad/cache-85dd2375886493b9.arrow\n"
     ]
    }
   ],
   "source": [
    "def encode(examples):\n",
    "    return tokenizer(examples['sentence1'], examples['sentence2'], truncation=True, padding='max_length')\n",
    "\n",
    "dataset = dataset.map(encode, batched=True)"
   ]
  },
  {
   "cell_type": "code",
   "execution_count": 143,
   "id": "971cb824",
   "metadata": {},
   "outputs": [
    {
     "name": "stderr",
     "output_type": "stream",
     "text": [
      "Loading cached processed dataset at /Users/oliver/.cache/huggingface/datasets/glue/mrpc/1.0.0/dacbe3125aa31d7f70367a07a8a9e72a5a0bfeb5fc42e75c9db75b96da6053ad/cache-9254fa17d9f1365e.arrow\n"
     ]
    },
    {
     "data": {
      "text/plain": [
       "Dataset({\n",
       "    features: ['sentence1', 'sentence2', 'label', 'idx', 'input_ids', 'attention_mask', 'labels'],\n",
       "    num_rows: 1725\n",
       "})"
      ]
     },
     "execution_count": 143,
     "metadata": {},
     "output_type": "execute_result"
    }
   ],
   "source": [
    "dataset = dataset.map(lambda examples: {'labels': examples['label']}, batched=True)\n",
    "dataset"
   ]
  },
  {
   "cell_type": "code",
   "execution_count": 144,
   "id": "672a12bc",
   "metadata": {},
   "outputs": [],
   "source": [
    "dataset.set_format(type='torch', columns=['input_ids', 'attention_mask', 'labels'])"
   ]
  },
  {
   "cell_type": "code",
   "execution_count": 145,
   "id": "581864b0",
   "metadata": {},
   "outputs": [],
   "source": [
    "dataloader = torch.utils.data.DataLoader(dataset, batch_size=32)"
   ]
  },
  {
   "cell_type": "markdown",
   "id": "858b3f5e",
   "metadata": {},
   "source": [
    "# "
   ]
  },
  {
   "cell_type": "code",
   "execution_count": 146,
   "id": "5feb8b27",
   "metadata": {},
   "outputs": [],
   "source": [
    "def eval_model(model, dataloader):\n",
    "    device = 'cuda' if torch.cuda.is_available() else 'cpu'\n",
    "    model.eval()\n",
    "    preds = None\n",
    "\n",
    "    for i, batch in enumerate(tqdm(dataloader)):\n",
    "        batch = {k: v.to(device) for k, v in batch.items()}\n",
    "        with torch.no_grad():\n",
    "            outputs = model(**batch)\n",
    "            tmp_eval_loss, logits = outputs[:2]\n",
    "            loss = outputs[0]\n",
    "        if preds is None:\n",
    "            preds = logits.detach().cpu().numpy()\n",
    "            out_label_ids = batch['labels'].detach().cpu().numpy()\n",
    "        else:\n",
    "            preds = np.append(preds, logits.detach().cpu().numpy(), axis=0)\n",
    "            out_label_ids = np.append(out_label_ids, batch['labels'].detach().cpu().numpy(), axis=0)\n",
    "        if i % 10 == 0:\n",
    "    #         print(f\"loss: {loss}\")\n",
    "            pass\n",
    "\n",
    "    preds = np.argmax(preds, axis=1)\n",
    "\n",
    "    print(f'accuracy: {simple_accuracy(preds, out_label_ids)}')"
   ]
  },
  {
   "cell_type": "code",
   "execution_count": 147,
   "id": "919b4ae9",
   "metadata": {},
   "outputs": [
    {
     "name": "stderr",
     "output_type": "stream",
     "text": [
      "100%|█████████████████████████████████████████████████████████████████████████████████████████████████████████████████████████████████████████████████████████████████████| 54/54 [16:24<00:00, 18.24s/it]"
     ]
    },
    {
     "name": "stdout",
     "output_type": "stream",
     "text": [
      "accuracy: 0.8724637681159421\n"
     ]
    },
    {
     "name": "stderr",
     "output_type": "stream",
     "text": [
      "\n"
     ]
    }
   ],
   "source": [
    "eval_model(model, dataloader)"
   ]
  },
  {
   "cell_type": "code",
   "execution_count": 148,
   "id": "9ba22446",
   "metadata": {},
   "outputs": [
    {
     "name": "stderr",
     "output_type": "stream",
     "text": [
      "100%|█████████████████████████████████████████████████████████████████████████████████████████████████████████████████████████████████████████████████████████████████████| 54/54 [24:13<00:00, 26.92s/it]"
     ]
    },
    {
     "name": "stdout",
     "output_type": "stream",
     "text": [
      "accuracy: 0.8660869565217392\n"
     ]
    },
    {
     "name": "stderr",
     "output_type": "stream",
     "text": [
      "\n"
     ]
    }
   ],
   "source": [
    "eval_model(qmodel, dataloader)"
   ]
  },
  {
   "cell_type": "code",
   "execution_count": 149,
   "id": "394c094e",
   "metadata": {},
   "outputs": [],
   "source": [
    "torch.backends.quantized.engine = 'qnnpack'"
   ]
  },
  {
   "cell_type": "code",
   "execution_count": 150,
   "id": "187d43d2",
   "metadata": {},
   "outputs": [],
   "source": [
    "dynamic_model = torch.quantization.quantize_dynamic(model, {torch.nn.Linear}, dtype=torch.qint8)"
   ]
  },
  {
   "cell_type": "code",
   "execution_count": null,
   "id": "0de6ae3f",
   "metadata": {},
   "outputs": [
    {
     "name": "stderr",
     "output_type": "stream",
     "text": [
      " 61%|████████████████████████████████████████████████████████████████████████████████████████████████████▊                                                                | 33/54 [10:26<06:48, 19.45s/it]"
     ]
    }
   ],
   "source": [
    "eval_model(dynamic_model, dataloader)"
   ]
  },
  {
   "cell_type": "markdown",
   "id": "8c82746c",
   "metadata": {},
   "source": [
    "## PyTorch dynamic quantization under the hood\n",
    "How does pytorch determine the min and max of the range?"
   ]
  },
  {
   "cell_type": "code",
   "execution_count": 108,
   "id": "84ab60e5",
   "metadata": {},
   "outputs": [
    {
     "data": {
      "text/plain": [
       "tensor([[ 0.0727, -0.0056, -0.0895,  ...,  0.1007,  0.0895, -0.1007],\n",
       "        [-0.0503,  0.2070,  0.0727,  ...,  0.0671,  0.0615,  0.1286],\n",
       "        [ 0.0895,  0.0727, -0.0503,  ..., -0.0447, -0.0056,  0.1119],\n",
       "        ...,\n",
       "        [-0.1846,  0.0168, -0.0336,  ..., -0.0503,  0.1007, -0.1175],\n",
       "        [-0.2517,  0.0447,  0.0615,  ...,  0.0727, -0.1063,  0.0112],\n",
       "        [-0.0503, -0.0839,  0.1007,  ..., -0.1902,  0.0056, -0.0559]],\n",
       "       size=(768, 768), dtype=torch.qint8,\n",
       "       quantization_scheme=torch.per_tensor_affine, scale=0.0055933459661901,\n",
       "       zero_point=0)"
      ]
     },
     "execution_count": 108,
     "metadata": {},
     "output_type": "execute_result"
    }
   ],
   "source": [
    "dynamic_model.roberta.encoder.layer[0].attention.self.query.weight()"
   ]
  },
  {
   "cell_type": "code",
   "execution_count": 121,
   "id": "85173667",
   "metadata": {},
   "outputs": [
    {
     "data": {
      "text/plain": [
       "tensor([[ 0.0733, -0.0037, -0.0904,  ...,  0.1033,  0.0894, -0.1026],\n",
       "        [-0.0520,  0.2053,  0.0730,  ...,  0.0648,  0.0631,  0.1287],\n",
       "        [ 0.0869,  0.0704, -0.0509,  ..., -0.0434, -0.0070,  0.1100],\n",
       "        ...,\n",
       "        [-0.1867,  0.0172, -0.0314,  ..., -0.0504,  0.1023, -0.1159],\n",
       "        [-0.2524,  0.0435,  0.0640,  ...,  0.0703, -0.1036,  0.0117],\n",
       "        [-0.0512, -0.0864,  0.1022,  ..., -0.1887,  0.0045, -0.0540]])"
      ]
     },
     "execution_count": 121,
     "metadata": {},
     "output_type": "execute_result"
    }
   ],
   "source": [
    "model.roberta.encoder.layer[0].attention.self.query.weight.data"
   ]
  },
  {
   "cell_type": "code",
   "execution_count": 101,
   "id": "3965e81f",
   "metadata": {},
   "outputs": [
    {
     "data": {
      "text/plain": [
       "tensor(0.7132)"
      ]
     },
     "execution_count": 101,
     "metadata": {},
     "output_type": "execute_result"
    }
   ],
   "source": [
    "model.roberta.encoder.layer[0].attention.self.query.weight.data.max()"
   ]
  },
  {
   "cell_type": "code",
   "execution_count": 109,
   "id": "5a32fe9b",
   "metadata": {},
   "outputs": [
    {
     "data": {
      "text/plain": [
       "tensor(-0.5972)"
      ]
     },
     "execution_count": 109,
     "metadata": {},
     "output_type": "execute_result"
    }
   ],
   "source": [
    "model.roberta.encoder.layer[0].attention.self.query.weight.data.min()"
   ]
  },
  {
   "cell_type": "code",
   "execution_count": 114,
   "id": "8c7da17f",
   "metadata": {},
   "outputs": [],
   "source": [
    "tmin = -0.5972\n",
    "tmax = 0.7132"
   ]
  },
  {
   "cell_type": "code",
   "execution_count": 113,
   "id": "12a9d598",
   "metadata": {},
   "outputs": [
    {
     "data": {
      "text/plain": [
       "(-128.5, 127.5)"
      ]
     },
     "execution_count": 113,
     "metadata": {},
     "output_type": "execute_result"
    }
   ],
   "source": [
    "qmax = 127\n",
    "qmin = -128\n",
    "symmetric_qmin = -((qmax - qmin) / 2 + 1)\n",
    "symmetric_qmax = (qmax - qmin) / 2\n",
    "symmetric_qmin, symmetric_qmax"
   ]
  },
  {
   "cell_type": "code",
   "execution_count": 116,
   "id": "8bcd6df9",
   "metadata": {},
   "outputs": [
    {
     "data": {
      "text/plain": [
       "0.005593725490196078"
      ]
     },
     "execution_count": 116,
     "metadata": {},
     "output_type": "execute_result"
    }
   ],
   "source": [
    "max_scale = max(abs(tmin / symmetric_qmin), abs(tmax / symmetric_qmax))\n",
    "max_scale"
   ]
  },
  {
   "cell_type": "code",
   "execution_count": 117,
   "id": "5d7803a5",
   "metadata": {},
   "outputs": [],
   "source": [
    "tmin = max_scale*symmetric_qmin"
   ]
  },
  {
   "cell_type": "code",
   "execution_count": 118,
   "id": "94685917",
   "metadata": {},
   "outputs": [],
   "source": [
    "tmax = max_scale*symmetric_qmax"
   ]
  },
  {
   "cell_type": "code",
   "execution_count": 119,
   "id": "b771b978",
   "metadata": {},
   "outputs": [
    {
     "data": {
      "text/plain": [
       "(-0.718793725490196, 0.7132)"
      ]
     },
     "execution_count": 119,
     "metadata": {},
     "output_type": "execute_result"
    }
   ],
   "source": [
    "tmin, tmax"
   ]
  },
  {
   "cell_type": "code",
   "execution_count": 120,
   "id": "f5719b38",
   "metadata": {},
   "outputs": [
    {
     "data": {
      "text/plain": [
       "0.005615661668589004"
      ]
     },
     "execution_count": 120,
     "metadata": {},
     "output_type": "execute_result"
    }
   ],
   "source": [
    "(tmax - tmin) / (qmax - qmin)"
   ]
  },
  {
   "cell_type": "code",
   "execution_count": 125,
   "id": "4ead55c0",
   "metadata": {},
   "outputs": [
    {
     "data": {
      "text/plain": [
       "tensor([[ 0.0727, -0.0056, -0.0895,  ...,  0.1007,  0.0895, -0.1007],\n",
       "        [-0.0503,  0.2070,  0.0727,  ...,  0.0671,  0.0615,  0.1287],\n",
       "        [ 0.0895,  0.0727, -0.0503,  ..., -0.0447, -0.0056,  0.1119],\n",
       "        ...,\n",
       "        [-0.1846,  0.0168, -0.0336,  ..., -0.0503,  0.1007, -0.1175],\n",
       "        [-0.2517,  0.0447,  0.0615,  ...,  0.0727, -0.1063,  0.0112],\n",
       "        [-0.0503, -0.0839,  0.1007,  ..., -0.1902,  0.0056, -0.0559]])"
      ]
     },
     "execution_count": 125,
     "metadata": {},
     "output_type": "execute_result"
    }
   ],
   "source": [
    "aq = torch.round(model.roberta.encoder.layer[0].attention.self.query.weight.data / max_scale)\n",
    "aq * max_scale"
   ]
  },
  {
   "cell_type": "code",
   "execution_count": 91,
   "id": "af14860e",
   "metadata": {},
   "outputs": [
    {
     "ename": "TypeError",
     "evalue": "'LinearPackedParams' object is not subscriptable",
     "output_type": "error",
     "traceback": [
      "\u001b[0;31m---------------------------------------------------------------------------\u001b[0m",
      "\u001b[0;31mTypeError\u001b[0m                                 Traceback (most recent call last)",
      "Input \u001b[0;32mIn [91]\u001b[0m, in \u001b[0;36m<module>\u001b[0;34m\u001b[0m\n\u001b[0;32m----> 1\u001b[0m \u001b[43mdynamic_model\u001b[49m\u001b[38;5;241;43m.\u001b[39;49m\u001b[43mroberta\u001b[49m\u001b[38;5;241;43m.\u001b[39;49m\u001b[43mencoder\u001b[49m\u001b[38;5;241;43m.\u001b[39;49m\u001b[43mlayer\u001b[49m\u001b[43m[\u001b[49m\u001b[38;5;241;43m0\u001b[39;49m\u001b[43m]\u001b[49m\u001b[38;5;241;43m.\u001b[39;49m\u001b[43mattention\u001b[49m\u001b[38;5;241;43m.\u001b[39;49m\u001b[43mself\u001b[49m\u001b[38;5;241;43m.\u001b[39;49m\u001b[43mquery\u001b[49m\u001b[38;5;241;43m.\u001b[39;49m\u001b[43m_packed_params\u001b[49m\u001b[43m[\u001b[49m\u001b[38;5;241;43m0\u001b[39;49m\u001b[43m]\u001b[49m\n",
      "\u001b[0;31mTypeError\u001b[0m: 'LinearPackedParams' object is not subscriptable"
     ]
    }
   ],
   "source": [
    "dynamic_model.roberta.encoder.layer[0].attention.self.query._packed_params[0]"
   ]
  },
  {
   "cell_type": "code",
   "execution_count": 130,
   "id": "a70492ed",
   "metadata": {},
   "outputs": [],
   "source": [
    "from dynamic_quant_ops import tensor_quant_scale"
   ]
  },
  {
   "cell_type": "code",
   "execution_count": 132,
   "id": "c1f7aab1",
   "metadata": {},
   "outputs": [],
   "source": [
    "aq, scale = tensor_quant_scale(model.roberta.encoder.layer[0].attention.self.query.weight.data)"
   ]
  },
  {
   "cell_type": "code",
   "execution_count": 133,
   "id": "854169dc",
   "metadata": {},
   "outputs": [
    {
     "data": {
      "text/plain": [
       "tensor([[ 0.0727, -0.0056, -0.0895,  ...,  0.1007,  0.0895, -0.1007],\n",
       "        [-0.0503,  0.2070,  0.0727,  ...,  0.0671,  0.0615,  0.1286],\n",
       "        [ 0.0895,  0.0727, -0.0503,  ..., -0.0447, -0.0056,  0.1119],\n",
       "        ...,\n",
       "        [-0.1846,  0.0168, -0.0336,  ..., -0.0503,  0.1007, -0.1175],\n",
       "        [-0.2517,  0.0447,  0.0615,  ...,  0.0727, -0.1063,  0.0112],\n",
       "        [-0.0503, -0.0839,  0.1007,  ..., -0.1902,  0.0056, -0.0559]])"
      ]
     },
     "execution_count": 133,
     "metadata": {},
     "output_type": "execute_result"
    }
   ],
   "source": [
    "aq * scale"
   ]
  },
  {
   "cell_type": "code",
   "execution_count": 138,
   "id": "0c6d53e2",
   "metadata": {},
   "outputs": [
    {
     "data": {
      "text/plain": [
       "0.382255209922794"
      ]
     },
     "execution_count": 138,
     "metadata": {},
     "output_type": "execute_result"
    }
   ],
   "source": [
    "np.percentile(model.roberta.encoder.layer[0].attention.self.query.weight.data.detach().numpy(), 99.9)"
   ]
  },
  {
   "cell_type": "code",
   "execution_count": 139,
   "id": "f5bbe08f",
   "metadata": {},
   "outputs": [
    {
     "data": {
      "text/plain": [
       "0.005615748031496063"
      ]
     },
     "execution_count": 139,
     "metadata": {},
     "output_type": "execute_result"
    }
   ],
   "source": [
    "max(abs(0.7132), abs(-0.5972)) / (2**(8-1)-1)"
   ]
  }
 ],
 "metadata": {
  "kernelspec": {
   "display_name": "trans-fat",
   "language": "python",
   "name": "trans-fat"
  },
  "language_info": {
   "codemirror_mode": {
    "name": "ipython",
    "version": 3
   },
   "file_extension": ".py",
   "mimetype": "text/x-python",
   "name": "python",
   "nbconvert_exporter": "python",
   "pygments_lexer": "ipython3",
   "version": "3.9.10"
  }
 },
 "nbformat": 4,
 "nbformat_minor": 5
}
