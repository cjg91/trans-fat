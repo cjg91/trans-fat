{
 "cells": [
  {
   "cell_type": "markdown",
   "id": "4a40f57f",
   "metadata": {},
   "source": [
    "# Numpy implementation of INT8 matmul"
   ]
  },
  {
   "cell_type": "code",
   "execution_count": 1,
   "id": "1b78b202",
   "metadata": {},
   "outputs": [],
   "source": [
    "%load_ext autoreload\n",
    "%autoreload 2"
   ]
  },
  {
   "cell_type": "code",
   "execution_count": 27,
   "id": "c5d61794",
   "metadata": {},
   "outputs": [],
   "source": [
    "import numpy as np\n",
    "import torch\n",
    "from dynamic_quant_ops import quant_matmul, quant_linear"
   ]
  },
  {
   "attachments": {
    "image.png": {
     "image/png": "[encoded data removed]"
    }
   },
   "cell_type": "markdown",
   "id": "e557668f",
   "metadata": {},
   "source": [
    "![image.png](attachment:image.png)"
   ]
  },
  {
   "cell_type": "code",
   "execution_count": 28,
   "id": "a8b4b769",
   "metadata": {},
   "outputs": [],
   "source": [
    "A = np.random.normal(size=(4,4))\n",
    "B = np.random.normal(size=(4,4))"
   ]
  },
  {
   "cell_type": "code",
   "execution_count": 29,
   "id": "5ed1c7c8",
   "metadata": {},
   "outputs": [
    {
     "data": {
      "text/plain": [
       "array([[-2.46737615, -0.39985506,  0.53495889, -5.81979658],\n",
       "       [ 3.42618369,  0.48773079, -0.23890971,  3.3127765 ],\n",
       "       [-1.97523475, -0.2132945 , -0.55799979, -0.21165159],\n",
       "       [-2.11099958, -0.19177329, -0.15928358, -1.60022392]])"
      ]
     },
     "execution_count": 29,
     "metadata": {},
     "output_type": "execute_result"
    }
   ],
   "source": [
    "C_gt = A @ B\n",
    "C_gt"
   ]
  },
  {
   "cell_type": "code",
   "execution_count": 30,
   "id": "fb68949b",
   "metadata": {},
   "outputs": [
    {
     "data": {
      "text/plain": [
       "0.00012150481413869677"
      ]
     },
     "execution_count": 30,
     "metadata": {},
     "output_type": "execute_result"
    }
   ],
   "source": [
    "C_dequant = quant_matmul(A, B).numpy()\n",
    "mse = np.mean((C_dequant - C_gt)**2)\n",
    "mse"
   ]
  },
  {
   "cell_type": "code",
   "execution_count": 31,
   "id": "07535226",
   "metadata": {},
   "outputs": [],
   "source": [
    "a = torch.Tensor([[1,2],[3,4]])\n",
    "b = a * 3.5"
   ]
  },
  {
   "cell_type": "code",
   "execution_count": 32,
   "id": "4962d0f2",
   "metadata": {},
   "outputs": [
    {
     "data": {
      "text/plain": [
       "tensor([[24.5000, 35.0000],\n",
       "        [52.5000, 77.0000]])"
      ]
     },
     "execution_count": 32,
     "metadata": {},
     "output_type": "execute_result"
    }
   ],
   "source": [
    "a @ b"
   ]
  },
  {
   "cell_type": "code",
   "execution_count": 33,
   "id": "4c6402a9",
   "metadata": {},
   "outputs": [
    {
     "data": {
      "text/plain": [
       "tensor([[24.6282, 35.2782],\n",
       "        [52.3660, 76.9942]], dtype=torch.float64)"
      ]
     },
     "execution_count": 33,
     "metadata": {},
     "output_type": "execute_result"
    }
   ],
   "source": [
    "quant_matmul(a, b)"
   ]
  },
  {
   "cell_type": "code",
   "execution_count": 34,
   "id": "0ae78581",
   "metadata": {},
   "outputs": [],
   "source": [
    "from dynamic_quant_ops import quant_matmul, quant_linear"
   ]
  },
  {
   "cell_type": "code",
   "execution_count": 27,
   "id": "9d56eb7a",
   "metadata": {},
   "outputs": [],
   "source": [
    "lin = torch.nn.Linear(2,3)"
   ]
  },
  {
   "cell_type": "code",
   "execution_count": 28,
   "id": "4405e19f",
   "metadata": {},
   "outputs": [],
   "source": [
    "act = torch.Tensor([.1,.2])\n",
    "act.requires_grad = False"
   ]
  },
  {
   "cell_type": "code",
   "execution_count": 29,
   "id": "c80aa95d",
   "metadata": {},
   "outputs": [
    {
     "data": {
      "text/plain": [
       "tensor([ 0.3986, -0.2891, -0.6199], grad_fn=<AddBackward0>)"
      ]
     },
     "execution_count": 29,
     "metadata": {},
     "output_type": "execute_result"
    }
   ],
   "source": [
    "lin(act)"
   ]
  },
  {
   "cell_type": "code",
   "execution_count": 30,
   "id": "039b7db7",
   "metadata": {},
   "outputs": [
    {
     "data": {
      "text/plain": [
       "tensor([ 0.3982, -0.2889, -0.6201], dtype=torch.float64)"
      ]
     },
     "execution_count": 30,
     "metadata": {},
     "output_type": "execute_result"
    }
   ],
   "source": [
    "quant_linear(lin, act)"
   ]
  },
  {
   "cell_type": "code",
   "execution_count": null,
   "id": "34049cf6",
   "metadata": {},
   "outputs": [],
   "source": []
  }
 ],
 "metadata": {
  "kernelspec": {
   "display_name": "trans-fat",
   "language": "python",
   "name": "trans-fat"
  },
  "language_info": {
   "codemirror_mode": {
    "name": "ipython",
    "version": 3
   },
   "file_extension": ".py",
   "mimetype": "text/x-python",
   "name": "python",
   "nbconvert_exporter": "python",
   "pygments_lexer": "ipython3",
   "version": "3.9.10"
  }
 },
 "nbformat": 4,
 "nbformat_minor": 5
}
