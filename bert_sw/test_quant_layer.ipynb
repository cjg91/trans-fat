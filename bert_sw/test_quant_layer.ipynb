{
 "cells": [
  {
   "cell_type": "markdown",
   "id": "56e7abc3",
   "metadata": {},
   "source": [
    "# Test functional correctness of quant layer implementation"
   ]
  },
  {
   "cell_type": "code",
   "execution_count": 27,
   "id": "2ed08ae2",
   "metadata": {},
   "outputs": [
    {
     "name": "stdout",
     "output_type": "stream",
     "text": [
      "The autoreload extension is already loaded. To reload it, use:\n",
      "  %reload_ext autoreload\n"
     ]
    },
    {
     "name": "stderr",
     "output_type": "stream",
     "text": [
      "Some weights of the model checkpoint at bert-base-uncased were not used when initializing BertModel: ['cls.predictions.transform.dense.weight', 'cls.predictions.transform.dense.bias', 'cls.predictions.transform.LayerNorm.bias', 'cls.seq_relationship.weight', 'cls.predictions.bias', 'cls.predictions.decoder.weight', 'cls.predictions.transform.LayerNorm.weight', 'cls.seq_relationship.bias']\n",
      "- This IS expected if you are initializing BertModel from the checkpoint of a model trained on another task or with another architecture (e.g. initializing a BertForSequenceClassification model from a BertForPreTraining model).\n",
      "- This IS NOT expected if you are initializing BertModel from the checkpoint of a model that you expect to be exactly identical (initializing a BertForSequenceClassification model from a BertForSequenceClassification model).\n"
     ]
    }
   ],
   "source": [
    "%load_ext autoreload\n",
    "%autoreload 2\n",
    "\n",
    "import torch\n",
    "import torch.nn as nn\n",
    "from transformers import BertModel, BertTokenizer\n",
    "import math\n",
    "\n",
    "from src.quant_layer import attention, ffn, layer_kernel_gt\n",
    "\n",
    "tokenizer = BertTokenizer.from_pretrained('bert-base-uncased')\n",
    "model = BertModel.from_pretrained('bert-base-uncased')"
   ]
  },
  {
   "cell_type": "code",
   "execution_count": 28,
   "id": "31dec032",
   "metadata": {},
   "outputs": [],
   "source": [
    "text_512 = 'This project aims to implement a transformer layer on a cluster of FPGAs. In recent years transformers have outperformed traditional convolutional neural networks in many fields, but serial performance is dismal and parallel GPU performance is power-intensive. Specialized architectures have been studied little, especially using FPGA platforms. This research will improve transformer inference performance by offloading computationally intensive sections of the network to reconfigurable accelerators running on a cluster of multiple FPGA devices. This research will result in an acceleration architecture for a single layer of a transformer network along with a performance comparison with CPU and GPU baselines. We propose the investigation of distributed transformer inference across a cluster of multiple field programmable gate arrays (FPGAs). This research will investigate the partitioning of a transformer layer across multiple FPGA devices along with networking between FPGAs in the cluster. Transformers have become a dominant machine learning architecture for many domains such as natural language processing, therefore high speed inference is desirable. However, networks sizes and limited FPGA resources often make inference on a single FPGA slow due to limited parallelism and pipeline depth or impossible due to limited resources. The purpose of this research is to explore methods to overcome these challenges by introducing parallelism through multi-FPGA clusters. Transformers are highly parallel neural network architectures which consist of stacks of encoder and decoder layers. These layers consist of many linear transformations on matrices which are represented by matrix-matrix multiplication. Within an encoder/decoder layer there is an opportunity to parallelize both between concurrent general matrix multiplies (GeMM) and within each GeMM. Attempting to serialize these operations on a CPU leads to high execution time and is a poor utilization of the CPU\\'s general purpose architecture. GPUs can deliver high throughput inference for transformers, though they are power-hungry and do not achieve the low latency required by some applications. Both in the datacenter and at the edge, low-latency and efficient inference is desired. Optimally, there would be an architecture that could scale between these two extremes of computational demand. State-of-the-art transformers can contain upwards of 12 layers and multiply matrices on the order of 1024x1024 elements. In addition, the trend of increasing transformer size does not show signs of slowing. This large use of memory and FLOPs leads to difficulty mapping an entire transformer network to a '\n",
    "text_128 = 'This project aims to implement a transformer layer on a cluster of FPGAs. In recent years transformers have outperformed traditional convolutional neural networks in many fields, but serial performance is dismal and parallel GPU performance is power-intensive. Specialized architectures have been studied little, especially using FPGA platforms. This research will improve transformer inference performance by offloading computationally intensive sections of the network to reconfigurable accelerators running on a cluster of multiple FPGA devices. This research will result in an acceleration architecture for a single layer of a transformer network along with a  '\n",
    "text = text_128\n",
    "encoded_input = tokenizer(text, return_tensors='pt')\n",
    "embedding_output = model.embeddings(\n",
    "    input_ids=encoded_input['input_ids'],\n",
    "    position_ids=None,\n",
    "    token_type_ids=encoded_input['token_type_ids'],\n",
    "    inputs_embeds=None,\n",
    "    past_key_values_length=0,\n",
    ")"
   ]
  },
  {
   "cell_type": "code",
   "execution_count": 29,
   "id": "98d1e37c",
   "metadata": {},
   "outputs": [
    {
     "data": {
      "text/plain": [
       "torch.Size([1, 128, 768])"
      ]
     },
     "execution_count": 29,
     "metadata": {},
     "output_type": "execute_result"
    }
   ],
   "source": [
    "embedding_output.shape"
   ]
  },
  {
   "cell_type": "code",
   "execution_count": 30,
   "id": "7bb56e01",
   "metadata": {},
   "outputs": [
    {
     "name": "stdout",
     "output_type": "stream",
     "text": [
      "tensor([[[-0.0067,  0.0238, -0.1853,  ...,  0.2033, -0.0616, -0.0260],\n",
      "         [-0.6611,  0.2869,  0.2462,  ...,  0.0158,  0.5140,  0.2573],\n",
      "         [ 0.1062,  0.3159,  0.3123,  ...,  0.0135,  0.3053, -0.8292],\n",
      "         ...,\n",
      "         [-0.4844,  0.7619,  0.4894,  ...,  0.1775, -1.1289,  0.9228],\n",
      "         [ 0.2114,  0.6535,  0.5103,  ...,  0.4999, -0.1362,  0.6466],\n",
      "         [-0.3235,  0.1016, -0.0433,  ...,  0.0102,  0.1501, -0.4954]]],\n",
      "       grad_fn=<MulBackward0>)\n"
     ]
    }
   ],
   "source": [
    "layer = model.encoder.layer[0]\n",
    "attention_out = attention(layer, embedding_output)\n",
    "output_gt = ffn(layer, attention_out)\n",
    "print(output_gt)"
   ]
  },
  {
   "cell_type": "code",
   "execution_count": 31,
   "id": "5837757b",
   "metadata": {},
   "outputs": [
    {
     "name": "stdout",
     "output_type": "stream",
     "text": [
      "tensor([[[-0.5741, -0.7177,  1.0526,  ...,  0.0957, -0.1914, -0.5263],\n",
      "         [ 0.5263,  0.0000,  0.4784,  ...,  0.5741,  0.6698, -0.1435],\n",
      "         [ 0.1435,  0.8133, -0.3828,  ..., -0.0957,  0.7655,  0.4306],\n",
      "         ...,\n",
      "         [-0.3349,  0.0478,  0.0957,  ..., -0.0957, -0.6220,  0.3349],\n",
      "         [ 0.4784, -0.4784, -0.1435,  ...,  0.0478,  0.1914,  0.1914],\n",
      "         [ 0.7177, -0.2392, -0.4306,  ...,  0.5263, -0.2392,  0.1914]]])\n"
     ]
    }
   ],
   "source": [
    "output_test = layer_kernel_gt(layer, embedding_output)\n",
    "print(output_test)"
   ]
  },
  {
   "cell_type": "code",
   "execution_count": 32,
   "id": "ff18794c",
   "metadata": {},
   "outputs": [
    {
     "ename": "AssertionError",
     "evalue": "",
     "output_type": "error",
     "traceback": [
      "\u001b[0;31m---------------------------------------------------------------------------\u001b[0m",
      "\u001b[0;31mAssertionError\u001b[0m                            Traceback (most recent call last)",
      "Input \u001b[0;32mIn [32]\u001b[0m, in \u001b[0;36m<module>\u001b[0;34m\u001b[0m\n\u001b[0;32m----> 1\u001b[0m \u001b[38;5;28;01massert\u001b[39;00m torch\u001b[38;5;241m.\u001b[39mallclose(output_gt, output_test)\n",
      "\u001b[0;31mAssertionError\u001b[0m: "
     ]
    }
   ],
   "source": [
    "assert torch.allclose(output_gt, output_test)"
   ]
  },
  {
   "cell_type": "markdown",
   "id": "e25f7062",
   "metadata": {},
   "source": [
    "# Generate Ground Truth\n",
    "Using this input and the parameters of the first encoder layer, generate a slew of ground truth values."
   ]
  },
  {
   "cell_type": "code",
   "execution_count": null,
   "id": "ba7693e5",
   "metadata": {},
   "outputs": [],
   "source": []
  }
 ],
 "metadata": {
  "kernelspec": {
   "display_name": "trans-fat",
   "language": "python",
   "name": "trans-fat"
  },
  "language_info": {
   "codemirror_mode": {
    "name": "ipython",
    "version": 3
   },
   "file_extension": ".py",
   "mimetype": "text/x-python",
   "name": "python",
   "nbconvert_exporter": "python",
   "pygments_lexer": "ipython3",
   "version": "3.9.10"
  }
 },
 "nbformat": 4,
 "nbformat_minor": 5
}
