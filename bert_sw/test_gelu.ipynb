{
 "cells": [
  {
   "cell_type": "code",
   "execution_count": 84,
   "id": "e796976a",
   "metadata": {},
   "outputs": [
    {
     "name": "stdout",
     "output_type": "stream",
     "text": [
      "The autoreload extension is already loaded. To reload it, use:\n",
      "  %reload_ext autoreload\n"
     ]
    }
   ],
   "source": [
    "%load_ext autoreload\n",
    "%autoreload 2"
   ]
  },
  {
   "cell_type": "code",
   "execution_count": 85,
   "id": "9d3ad16d",
   "metadata": {},
   "outputs": [],
   "source": [
    "import numpy as np\n",
    "import torch\n",
    "from dynamic_quant_ops import tensor_quant_gelu, tensor_quant_scale\n",
    "import matplotlib.pyplot as plt"
   ]
  },
  {
   "cell_type": "code",
   "execution_count": 86,
   "id": "3f334006",
   "metadata": {},
   "outputs": [],
   "source": [
    "inputs = torch.Tensor([-3, -1, 1, 3, 5])\n",
    "gelu_gt = torch.nn.functional.gelu(inputs)\n",
    "gelu_test = tensor_quant_gelu(inputs)"
   ]
  },
  {
   "cell_type": "code",
   "execution_count": 112,
   "id": "453e9a96",
   "metadata": {},
   "outputs": [
    {
     "data": {
      "image/png": "[encoded data removed]",
      "text/plain": [
       "<Figure size 432x288 with 1 Axes>"
      ]
     },
     "metadata": {
      "needs_background": "light"
     },
     "output_type": "display_data"
    }
   ],
   "source": [
    "plt.plot(inputs, gelu_gt, 'b')\n",
    "plt.plot(inputs, gelu_test, 'r--')\n",
    "plt.plot(inputs, intgelu_test[0], 'g-.')\n",
    "plt.show()"
   ]
  },
  {
   "cell_type": "code",
   "execution_count": 88,
   "id": "aec96baa",
   "metadata": {},
   "outputs": [],
   "source": [
    "from transformers.models.ibert.quant_modules import IntGELU"
   ]
  },
  {
   "cell_type": "code",
   "execution_count": 89,
   "id": "13698603",
   "metadata": {},
   "outputs": [],
   "source": [
    "intgelu = IntGELU()"
   ]
  },
  {
   "cell_type": "code",
   "execution_count": 109,
   "id": "e53bfcb7",
   "metadata": {},
   "outputs": [],
   "source": [
    "inputs_int, inputs_scale = tensor_quant_scale(inputs, bits=32, scale=.1)\n",
    "intgelu_test = intgelu(inputs, torch.Tensor([inputs_scale]))"
   ]
  },
  {
   "cell_type": "code",
   "execution_count": 110,
   "id": "900f03f6",
   "metadata": {},
   "outputs": [
    {
     "data": {
      "text/plain": [
       "tensor([ -0.,  -0., -10., -30., -50.])"
      ]
     },
     "execution_count": 110,
     "metadata": {},
     "output_type": "execute_result"
    }
   ],
   "source": [
    "(intgelu_test[0] / intgelu_test[1])"
   ]
  },
  {
   "cell_type": "code",
   "execution_count": 111,
   "id": "adb2a918",
   "metadata": {},
   "outputs": [
    {
     "name": "stdout",
     "output_type": "stream",
     "text": [
      "0.1\n"
     ]
    }
   ],
   "source": [
    "print(inputs_scale)"
   ]
  },
  {
   "cell_type": "code",
   "execution_count": 103,
   "id": "dc4faf1b",
   "metadata": {},
   "outputs": [
    {
     "name": "stdout",
     "output_type": "stream",
     "text": [
      "tensor([-0.0713])\n"
     ]
    }
   ],
   "source": [
    "print(intgelu_test[1])"
   ]
  },
  {
   "cell_type": "code",
   "execution_count": null,
   "id": "779157c7",
   "metadata": {},
   "outputs": [],
   "source": []
  }
 ],
 "metadata": {
  "kernelspec": {
   "display_name": "trans-fat",
   "language": "python",
   "name": "trans-fat"
  },
  "language_info": {
   "codemirror_mode": {
    "name": "ipython",
    "version": 3
   },
   "file_extension": ".py",
   "mimetype": "text/x-python",
   "name": "python",
   "nbconvert_exporter": "python",
   "pygments_lexer": "ipython3",
   "version": "3.9.10"
  }
 },
 "nbformat": 4,
 "nbformat_minor": 5
}
