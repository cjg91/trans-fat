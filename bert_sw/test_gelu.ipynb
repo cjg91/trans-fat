{
 "cells": [
  {
   "cell_type": "code",
   "execution_count": 7,
   "id": "e796976a",
   "metadata": {},
   "outputs": [],
   "source": [
    "%load_ext autoreload\n",
    "%autoreload 2"
   ]
  },
  {
   "cell_type": "code",
   "execution_count": 25,
   "id": "9d3ad16d",
   "metadata": {},
   "outputs": [],
   "source": [
    "import numpy as np\n",
    "import torch\n",
    "from dynamic_quant_ops import tensor_quant_gelu, tensor_quant_scale\n",
    "import matplotlib.pyplot as plt"
   ]
  },
  {
   "cell_type": "code",
   "execution_count": 9,
   "id": "3f334006",
   "metadata": {},
   "outputs": [],
   "source": [
    "inputs = torch.from_numpy(np.linspace(-2,2,10000))\n",
    "gelu_gt = torch.nn.functional.gelu(inputs)\n",
    "gelu_test = tensor_quant_gelu(inputs)"
   ]
  },
  {
   "cell_type": "code",
   "execution_count": 34,
   "id": "453e9a96",
   "metadata": {},
   "outputs": [
    {
     "data": {
      "image/png": "[encoded data removed]",
      "text/plain": [
       "<Figure size 432x288 with 1 Axes>"
      ]
     },
     "metadata": {
      "needs_background": "light"
     },
     "output_type": "display_data"
    }
   ],
   "source": [
    "plt.plot(inputs, gelu_gt, 'b')\n",
    "plt.plot(inputs, gelu_test, 'r--')\n",
    "plt.plot(inputs, intgelu_test[0], 'g-.')\n",
    "plt.show()"
   ]
  },
  {
   "cell_type": "code",
   "execution_count": 11,
   "id": "aec96baa",
   "metadata": {},
   "outputs": [],
   "source": [
    "from transformers.models.ibert.quant_modules import IntGELU"
   ]
  },
  {
   "cell_type": "code",
   "execution_count": 13,
   "id": "13698603",
   "metadata": {},
   "outputs": [],
   "source": [
    "intgelu = IntGELU()"
   ]
  },
  {
   "cell_type": "code",
   "execution_count": 31,
   "id": "e53bfcb7",
   "metadata": {},
   "outputs": [
    {
     "name": "stderr",
     "output_type": "stream",
     "text": [
      "/Users/oliver/miniforge3/envs/trans-fat/lib/python3.9/site-packages/transformers/models/ibert/quant_modules.py:350: UserWarning: __rfloordiv__ is deprecated, and its behavior will change in a future version of pytorch. It currently rounds toward 0 (like the 'trunc' function NOT 'floor'). This results in incorrect rounding for negative values. To keep the current behavior, use torch.div(a, b, rounding_mode='trunc'), or for actual floor division, use torch.div(a, b, rounding_mode='floor').\n",
      "  shift_int = 1.0 // sigmoid_scaling_factor\n"
     ]
    }
   ],
   "source": [
    "inputs_int, inputs_scale = tensor_quant_scale(inputs, bits=32)\n",
    "intgelu_test = intgelu(inputs, torch.Tensor([inputs_scale]))"
   ]
  },
  {
   "cell_type": "code",
   "execution_count": 35,
   "id": "900f03f6",
   "metadata": {},
   "outputs": [
    {
     "data": {
      "text/plain": [
       "tensor([ 3.8039e+22,  3.8092e+22,  3.8145e+22,  ..., -2.0540e+24,\n",
       "        -2.0545e+24, -2.0549e+24], dtype=torch.float64)"
      ]
     },
     "execution_count": 35,
     "metadata": {},
     "output_type": "execute_result"
    }
   ],
   "source": [
    "intgelu_test[0] / intgelu_test[1]"
   ]
  },
  {
   "cell_type": "code",
   "execution_count": null,
   "id": "adb2a918",
   "metadata": {},
   "outputs": [],
   "source": []
  }
 ],
 "metadata": {
  "kernelspec": {
   "display_name": "trans-fat",
   "language": "python",
   "name": "trans-fat"
  },
  "language_info": {
   "codemirror_mode": {
    "name": "ipython",
    "version": 3
   },
   "file_extension": ".py",
   "mimetype": "text/x-python",
   "name": "python",
   "nbconvert_exporter": "python",
   "pygments_lexer": "ipython3",
   "version": "3.9.10"
  }
 },
 "nbformat": 4,
 "nbformat_minor": 5
}
