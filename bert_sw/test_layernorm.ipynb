{
 "cells": [
  {
   "cell_type": "markdown",
   "id": "6d4ef9c5",
   "metadata": {},
   "source": [
    "$$ y = \\frac{x-E[x]}{\\sqrt{Var[x]+\\epsilon}}*\\gamma + \\beta $$"
   ]
  },
  {
   "cell_type": "markdown",
   "id": "0e796f1c",
   "metadata": {},
   "source": [
    "$$ x = S*q $$\n",
    "$$ \\gamma = S*q_{\\gamma} $$\n",
    "$$ \\beta = S*q_{\\beta}$$"
   ]
  },
  {
   "cell_type": "markdown",
   "id": "0440b1cb",
   "metadata": {},
   "source": [
    "$$ y = \\frac{S*q-E[S*q]}{\\sqrt{Var[S*q]+\\epsilon}}*S*q_{\\gamma} + S*q_{\\beta} $$"
   ]
  },
  {
   "cell_type": "markdown",
   "id": "4349f425",
   "metadata": {},
   "source": [
    "$$ y = \\frac{S(q-E[q])}{\\sqrt{S^{2}(Var[q]+\\frac{\\epsilon}{S^2})}}*S*q_{\\gamma} + S*q_{\\beta} $$"
   ]
  },
  {
   "cell_type": "markdown",
   "id": "4c1141f8",
   "metadata": {},
   "source": [
    "$$ y = \\frac{q-E[q]}{\\sqrt{(Var[q]+\\frac{\\epsilon}{S^2})}}*S*q_{\\gamma} + S*q_{\\beta} $$"
   ]
  },
  {
   "cell_type": "markdown",
   "id": "e2a3b084",
   "metadata": {},
   "source": [
    "$$ y = S(\\frac{q-E[q]}{\\sqrt{(Var[q]+\\frac{\\epsilon}{S^2})}}*q_{\\gamma} + q_{\\beta}) $$"
   ]
  }
 ],
 "metadata": {
  "kernelspec": {
   "display_name": "trans-fat",
   "language": "python",
   "name": "trans-fat"
  },
  "language_info": {
   "codemirror_mode": {
    "name": "ipython",
    "version": 3
   },
   "file_extension": ".py",
   "mimetype": "text/x-python",
   "name": "python",
   "nbconvert_exporter": "python",
   "pygments_lexer": "ipython3",
   "version": "3.9.10"
  }
 },
 "nbformat": 4,
 "nbformat_minor": 5
}
